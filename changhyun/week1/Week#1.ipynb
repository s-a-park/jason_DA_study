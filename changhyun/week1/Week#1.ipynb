{
 "cells": [
  {
   "cell_type": "code",
   "execution_count": 1,
   "metadata": {},
   "outputs": [
    {
     "name": "stdout",
     "output_type": "stream",
     "text": [
      "Hello World!\n"
     ]
    }
   ],
   "source": [
    "print(\"Hello World!\") # This is a comment\n",
    "# print \"What will this line do?\""
   ]
  },
  {
   "cell_type": "code",
   "execution_count": 2,
   "metadata": {},
   "outputs": [
    {
     "name": "stdout",
     "output_type": "stream",
     "text": [
      " 6%3 = 0\n",
      " 5%3 = 2\n",
      " 2%3 = 2\n",
      " 0%3 = 0\n",
      "-4%3 = 2\n"
     ]
    },
    {
     "ename": "ZeroDivisionError",
     "evalue": "integer modulo by zero",
     "output_type": "error",
     "traceback": [
      "\u001b[1;31m---------------------------------------------------------------------------\u001b[0m",
      "\u001b[1;31mZeroDivisionError\u001b[0m                         Traceback (most recent call last)",
      "Cell \u001b[1;32mIn[2], line 6\u001b[0m\n\u001b[0;32m      4\u001b[0m \u001b[38;5;28mprint\u001b[39m(\u001b[38;5;124m\"\u001b[39m\u001b[38;5;124m 0\u001b[39m\u001b[38;5;124m%\u001b[39m\u001b[38;5;124m3 =\u001b[39m\u001b[38;5;124m\"\u001b[39m, ( \u001b[38;5;241m0\u001b[39m\u001b[38;5;241m%\u001b[39m\u001b[38;5;241m3\u001b[39m))\n\u001b[0;32m      5\u001b[0m \u001b[38;5;28mprint\u001b[39m(\u001b[38;5;124m\"\u001b[39m\u001b[38;5;124m-4\u001b[39m\u001b[38;5;124m%\u001b[39m\u001b[38;5;124m3 =\u001b[39m\u001b[38;5;124m\"\u001b[39m, (\u001b[38;5;241m-\u001b[39m\u001b[38;5;241m4\u001b[39m\u001b[38;5;241m%\u001b[39m\u001b[38;5;241m3\u001b[39m))\n\u001b[1;32m----> 6\u001b[0m \u001b[38;5;28mprint\u001b[39m(\u001b[38;5;124m\"\u001b[39m\u001b[38;5;124m 3\u001b[39m\u001b[38;5;124m%\u001b[39m\u001b[38;5;124m0 =\u001b[39m\u001b[38;5;124m\"\u001b[39m, ( \u001b[38;5;241m3\u001b[39m\u001b[38;5;241m%\u001b[39m\u001b[38;5;241m0\u001b[39m))\n",
      "\u001b[1;31mZeroDivisionError\u001b[0m: integer modulo by zero"
     ]
    }
   ],
   "source": [
    "print(\" 6%3 =\", ( 6%3))\n",
    "print(\" 5%3 =\", ( 5%3))\n",
    "print(\" 2%3 =\", ( 2%3))\n",
    "print(\" 0%3 =\", ( 0%3))\n",
    "print(\"-4%3 =\", (-4%3))\n",
    "print(\" 3%0 =\", ( 3%0))"
   ]
  },
  {
   "cell_type": "code",
   "execution_count": 3,
   "metadata": {},
   "outputs": [
    {
     "name": "stdout",
     "output_type": "stream",
     "text": [
      "Some builtin constants:\n",
      "True\n",
      "False\n",
      "None\n",
      "And some more constants in the math module:\n",
      "3.141592653589793\n",
      "2.718281828459045\n"
     ]
    }
   ],
   "source": [
    "print(\"Some builtin constants:\")\n",
    "print(True)\n",
    "print(False)\n",
    "print(None)\n",
    "\n",
    "print(\"And some more constants in the math module:\")\n",
    "import math\n",
    "print(math.pi)\n",
    "print(math.e)"
   ]
  },
  {
   "cell_type": "code",
   "execution_count": 4,
   "metadata": {},
   "outputs": [
    {
     "name": "stdout",
     "output_type": "stream",
     "text": [
      "The / operator does 'normal' float division:\n",
      " 5/3  = 1.6666666666666667\n",
      "\n",
      "The // operator does integer division:\n",
      " 5//3 = 1\n",
      " 2//3 = 0\n",
      "-1//3 = -1\n",
      "-4//3 = -2\n"
     ]
    }
   ],
   "source": [
    "print(\"The / operator does 'normal' float division:\")\n",
    "print(\" 5/3  =\", ( 5/3))\n",
    "print()\n",
    "print(\"The // operator does integer division:\")\n",
    "print(\" 5//3 =\", ( 5//3))\n",
    "print(\" 2//3 =\", ( 2//3))\n",
    "print(\"-1//3 =\", (-1//3))\n",
    "print(\"-4//3 =\", (-4//3))"
   ]
  },
  {
   "cell_type": "code",
   "execution_count": 5,
   "metadata": {},
   "outputs": [
    {
     "name": "stdout",
     "output_type": "stream",
     "text": [
      "13 13\n",
      "14 14\n",
      "4 4\n",
      "-4 -4\n"
     ]
    }
   ],
   "source": [
    "def mod(a, b):\n",
    "  return a - (a//b)*b\n",
    "\n",
    "print(41%14, mod(41,14))\n",
    "print(14%41, mod(14,41))\n",
    "print(-32%9, mod(-32,9))\n",
    "print(32%-9, mod(32,-9))"
   ]
  },
  {
   "cell_type": "code",
   "execution_count": 7,
   "metadata": {},
   "outputs": [
    {
     "name": "stdout",
     "output_type": "stream",
     "text": [
      "6\n",
      "abcabcabc\n",
      "5\n",
      "abcdef\n"
     ]
    }
   ],
   "source": [
    "print(3 * 2)\n",
    "print(3 * \"abc\")\n",
    "print(3 + 2)\n",
    "print(\"abc\" + \"def\")\n",
    "# print(3 + \"def\")"
   ]
  },
  {
   "cell_type": "code",
   "execution_count": 12,
   "metadata": {},
   "outputs": [
    {
     "name": "stdout",
     "output_type": "stream",
     "text": [
      "Precedence:\n",
      "14\n",
      "6\n",
      "32\n",
      "\n",
      "Associativity:\n",
      "-2\n",
      "262144\n"
     ]
    }
   ],
   "source": [
    "print(\"Precedence:\")\n",
    "print(2+3*4)  # prints 14, not 20\n",
    "print(5+4%3)  # prints  6, not 0 (% has same precedence as *, /, and //)\n",
    "print(2**3*4) # prints 32, not 4096 (** has higher precedence than *, /, //, and %)\n",
    "\n",
    "print()\n",
    "\n",
    "print(\"Associativity:\")\n",
    "print(5-4-3)   # prints -2, not 4 (- associates left-to-right)\n",
    "print(4**3**2) # prints 262144, not 4096 (** associates right-to-left)"
   ]
  },
  {
   "cell_type": "code",
   "execution_count": 13,
   "metadata": {},
   "outputs": [
    {
     "name": "stdout",
     "output_type": "stream",
     "text": [
      "True\n",
      "False\n",
      "0.30000000000000004\n",
      "5.551115123125783e-17\n"
     ]
    }
   ],
   "source": [
    "print(0.1 + 0.1 == 0.2)        # True, but...\n",
    "print(0.1 + 0.1 + 0.1 == 0.3)  # False!\n",
    "print(0.1 + 0.1 + 0.1)         # prints 0.30000000000000004 (uh oh)\n",
    "print((0.1 + 0.1 + 0.1) - 0.3) # prints 5.55111512313e-17 (tiny, but non-zero!)"
   ]
  },
  {
   "cell_type": "code",
   "execution_count": 14,
   "metadata": {},
   "outputs": [
    {
     "name": "stdout",
     "output_type": "stream",
     "text": [
      "The problem....\n",
      "False\n",
      "\n",
      "The solution...\n",
      "True\n",
      "\n",
      "Once again, using a useful helper function, almostEqual:\n",
      "False\n",
      "True\n"
     ]
    }
   ],
   "source": [
    "print(\"The problem....\")\n",
    "d1 = 0.1 + 0.1 + 0.1\n",
    "d2 = 0.3\n",
    "print(d1 == d2)                # False (never use == with floats!)\n",
    "\n",
    "print()\n",
    "print(\"The solution...\")\n",
    "epsilon = 10**-10\n",
    "print(abs(d2 - d1) < epsilon)  # True!\n",
    "\n",
    "print()\n",
    "print(\"Once again, using a useful helper function, almostEqual:\")\n",
    "\n",
    "def almostEqual(d1, d2):\n",
    "    epsilon = 10**-10\n",
    "    return (abs(d2 - d1) < epsilon)\n",
    "\n",
    "d1 = 0.1 + 0.1 + 0.1\n",
    "d2 = 0.3\n",
    "print(d1 == d2)            # still False, of course\n",
    "print(almostEqual(d1, d2)) # True, and now packaged in a handy reusable function!"
   ]
  },
  {
   "cell_type": "code",
   "execution_count": 15,
   "metadata": {},
   "outputs": [
    {
     "name": "stdout",
     "output_type": "stream",
     "text": [
      "False\n"
     ]
    },
    {
     "ename": "ZeroDivisionError",
     "evalue": "division by zero",
     "output_type": "error",
     "traceback": [
      "\u001b[1;31m---------------------------------------------------------------------------\u001b[0m",
      "\u001b[1;31mZeroDivisionError\u001b[0m                         Traceback (most recent call last)",
      "Cell \u001b[1;32mIn[15], line 11\u001b[0m\n\u001b[0;32m      8\u001b[0m     \u001b[38;5;28;01mreturn\u001b[39;00m \u001b[38;5;241m1\u001b[39m\u001b[38;5;241m/\u001b[39m\u001b[38;5;241m0\u001b[39m \u001b[38;5;66;03m# crashes!\u001b[39;00m\n\u001b[0;32m     10\u001b[0m \u001b[38;5;28mprint\u001b[39m(no() \u001b[38;5;129;01mand\u001b[39;00m crash()) \u001b[38;5;66;03m# Works!\u001b[39;00m\n\u001b[1;32m---> 11\u001b[0m \u001b[38;5;28mprint\u001b[39m(crash() \u001b[38;5;129;01mand\u001b[39;00m no()) \u001b[38;5;66;03m# Crashes!\u001b[39;00m\n\u001b[0;32m     12\u001b[0m \u001b[38;5;28mprint\u001b[39m (yes() \u001b[38;5;129;01mand\u001b[39;00m crash())\n",
      "Cell \u001b[1;32mIn[15], line 8\u001b[0m, in \u001b[0;36mcrash\u001b[1;34m()\u001b[0m\n\u001b[0;32m      7\u001b[0m \u001b[38;5;28;01mdef\u001b[39;00m \u001b[38;5;21mcrash\u001b[39m():\n\u001b[1;32m----> 8\u001b[0m     \u001b[38;5;28;01mreturn\u001b[39;00m \u001b[38;5;241m1\u001b[39m\u001b[38;5;241m/\u001b[39m\u001b[38;5;241m0\u001b[39m\n",
      "\u001b[1;31mZeroDivisionError\u001b[0m: division by zero"
     ]
    }
   ],
   "source": [
    "def yes():\n",
    "    return True\n",
    "\n",
    "def no():\n",
    "    return False\n",
    "\n",
    "def crash():\n",
    "    return 1/0 # crashes!\n",
    "\n",
    "print(no() and crash()) # Works!\n",
    "print(crash() and no()) # Crashes!\n",
    "print (yes() and crash()) # Never runs (due to crash), but would also crash (without short-circuiting)"
   ]
  },
  {
   "cell_type": "code",
   "execution_count": 16,
   "metadata": {},
   "outputs": [
    {
     "name": "stdout",
     "output_type": "stream",
     "text": [
      "True\n"
     ]
    },
    {
     "ename": "ZeroDivisionError",
     "evalue": "division by zero",
     "output_type": "error",
     "traceback": [
      "\u001b[1;31m---------------------------------------------------------------------------\u001b[0m",
      "\u001b[1;31mZeroDivisionError\u001b[0m                         Traceback (most recent call last)",
      "Cell \u001b[1;32mIn[16], line 11\u001b[0m\n\u001b[0;32m      8\u001b[0m     \u001b[38;5;28;01mreturn\u001b[39;00m \u001b[38;5;241m1\u001b[39m\u001b[38;5;241m/\u001b[39m\u001b[38;5;241m0\u001b[39m \u001b[38;5;66;03m# crashes!\u001b[39;00m\n\u001b[0;32m     10\u001b[0m \u001b[38;5;28mprint\u001b[39m(yes() \u001b[38;5;129;01mor\u001b[39;00m crash()) \u001b[38;5;66;03m# Works!\u001b[39;00m\n\u001b[1;32m---> 11\u001b[0m \u001b[38;5;28mprint\u001b[39m(crash() \u001b[38;5;129;01mor\u001b[39;00m yes()) \u001b[38;5;66;03m# Crashes!\u001b[39;00m\n\u001b[0;32m     12\u001b[0m \u001b[38;5;28mprint\u001b[39m(no() \u001b[38;5;129;01mor\u001b[39;00m crash())\n",
      "Cell \u001b[1;32mIn[16], line 8\u001b[0m, in \u001b[0;36mcrash\u001b[1;34m()\u001b[0m\n\u001b[0;32m      7\u001b[0m \u001b[38;5;28;01mdef\u001b[39;00m \u001b[38;5;21mcrash\u001b[39m():\n\u001b[1;32m----> 8\u001b[0m     \u001b[38;5;28;01mreturn\u001b[39;00m \u001b[38;5;241m1\u001b[39m\u001b[38;5;241m/\u001b[39m\u001b[38;5;241m0\u001b[39m\n",
      "\u001b[1;31mZeroDivisionError\u001b[0m: division by zero"
     ]
    }
   ],
   "source": [
    "def yes():\n",
    "    return True\n",
    "\n",
    "def no():\n",
    "    return False\n",
    "\n",
    "def crash():\n",
    "    return 1/0 # crashes!\n",
    "\n",
    "print(yes() or crash()) # Works!\n",
    "print(crash() or yes()) # Crashes!\n",
    "print(no() or crash())  # Never runs (due to crash), but would also crash (without short-circuiting)"
   ]
  },
  {
   "cell_type": "code",
   "execution_count": 17,
   "metadata": {},
   "outputs": [
    {
     "name": "stdout",
     "output_type": "stream",
     "text": [
      "Test 1: isEven(-4) and isPositive(-4))\n",
      "isEven( -4 ) = True\n",
      "isPositive( -4 ) = False\n",
      "False\n",
      "----------\n",
      "Test 2: isEven(-3) and isPositive(-3)\n",
      "isEven( -3 ) = False\n",
      "False\n"
     ]
    }
   ],
   "source": [
    "def isPositive(n):\n",
    "    result = (n > 0)\n",
    "    print(\"isPositive(\",n,\") =\", result)\n",
    "    return result\n",
    "\n",
    "def isEven(n):\n",
    "    result = (n % 2 == 0)\n",
    "    print(\"isEven(\",n,\") =\", result)\n",
    "    return result\n",
    "\n",
    "print(\"Test 1: isEven(-4) and isPositive(-4))\")\n",
    "print(isEven(-4) and isPositive(-4)) # Calls both functions\n",
    "print(\"----------\")\n",
    "print(\"Test 2: isEven(-3) and isPositive(-3)\")\n",
    "print(isEven(-3) and isPositive(-3)) # Calls only one function!"
   ]
  },
  {
   "cell_type": "code",
   "execution_count": 18,
   "metadata": {},
   "outputs": [
    {
     "name": "stdout",
     "output_type": "stream",
     "text": [
      "True\n",
      "True\n",
      "True True False False\n",
      "True True True False\n"
     ]
    },
    {
     "ename": "",
     "evalue": "",
     "output_type": "error",
     "traceback": [
      "\u001b[1;31mThe Kernel crashed while executing code in the the current cell or a previous cell. Please review the code in the cell(s) to identify a possible cause of the failure. Click <a href='https://aka.ms/vscodeJupyterKernelCrash'>here</a> for more info. View Jupyter <a href='command:jupyter.viewOutput'>log</a> for further details."
     ]
    }
   ],
   "source": [
    "# Both type and isinstance can be used to type-check\n",
    "# In general, (isinstance(x, T)) will be more robust than (type(x) == T)\n",
    "\n",
    "print(type(\"abc\") == str)\n",
    "print(isinstance(\"abc\", str))\n",
    "\n",
    "# We'll see better reasons for this when we cover OOP + inheritance later\n",
    "# in the course.  For now, here is one reason:  say you wanted to check\n",
    "# if a value is any kind of number (int, float, complex, etc). \n",
    "# You could do:\n",
    "\n",
    "def isNumber(x):\n",
    "    return ((type(x) == int) or\n",
    "            (type(x) == float)) # are we sure this is ALL kinds of numbers?\n",
    "\n",
    "print(isNumber(1), isNumber(1.1), isNumber(1+2j), isNumber(\"wow\"))\n",
    "\n",
    "# But this is cleaner, and works for all kinds of numbers, including\n",
    "# complex numbers for example:\n",
    "\n",
    "import numbers\n",
    "def isNumber(x):\n",
    "    return isinstance(x, numbers.Number) # works for any kind of number\n",
    "\n",
    "print(isNumber(1), isNumber(1.1), isNumber(1+2j), isNumber(\"wow\"))"
   ]
  },
  {
   "cell_type": "code",
   "execution_count": 1,
   "metadata": {},
   "outputs": [
    {
     "name": "stdout",
     "output_type": "stream",
     "text": [
      "6\n",
      "42\n"
     ]
    },
    {
     "ename": "TypeError",
     "evalue": "g() takes 0 positional arguments but 1 was given",
     "output_type": "error",
     "traceback": [
      "\u001b[1;31m---------------------------------------------------------------------------\u001b[0m",
      "\u001b[1;31mTypeError\u001b[0m                                 Traceback (most recent call last)",
      "Cell \u001b[1;32mIn[1], line 12\u001b[0m\n\u001b[0;32m      9\u001b[0m \u001b[38;5;28mprint\u001b[39m(g()) \u001b[38;5;66;03m# returns 42\u001b[39;00m\n\u001b[0;32m     11\u001b[0m \u001b[38;5;66;03m# Note - the number of arguments provided must match the number of parameters!\u001b[39;00m\n\u001b[1;32m---> 12\u001b[0m \u001b[38;5;28mprint\u001b[39m(g(\u001b[38;5;241m2\u001b[39m)) \u001b[38;5;66;03m# will crash\u001b[39;00m\n\u001b[0;32m     13\u001b[0m \u001b[38;5;28mprint\u001b[39m(f(\u001b[38;5;241m1\u001b[39m, \u001b[38;5;241m2\u001b[39m))\n",
      "\u001b[1;31mTypeError\u001b[0m: g() takes 0 positional arguments but 1 was given"
     ]
    }
   ],
   "source": [
    "def f(x, y, z):\n",
    "    return x + y + z\n",
    "\n",
    "print(f(1, 3, 2)) # returns 6\n",
    "\n",
    "def g():\n",
    "    return 42\n",
    "\n",
    "print(g()) # returns 42\n",
    "\n",
    "# Note - the number of arguments provided must match the number of parameters!\n",
    "print(g(2)) # will crash\n",
    "print(f(1, 2)) # would also crash if it ran"
   ]
  },
  {
   "cell_type": "code",
   "execution_count": 2,
   "metadata": {},
   "outputs": [
    {
     "name": "stdout",
     "output_type": "stream",
     "text": [
      "Type conversion functions:\n",
      "False\n",
      "42.0\n",
      "2\n",
      "And some basic math functions:\n",
      "5\n",
      "3\n",
      "2\n",
      "8\n",
      "2.4\n"
     ]
    }
   ],
   "source": [
    "# Some functions are already provided by Python\n",
    "\n",
    "print(\"Type conversion functions:\")\n",
    "print(bool(0))   # convert to boolean (True or False)\n",
    "print(float(42)) # convert to a floating point number\n",
    "print(int(2.8))  # convert to an integer (int)\n",
    "\n",
    "print(\"And some basic math functions:\")\n",
    "print(abs(-5))   # absolute value\n",
    "print(max(2,3))  # return the max value\n",
    "print(min(2,3))  # return the min value\n",
    "print(pow(2,3))  # raise to the given power (pow(x,y) == x**y)\n",
    "print(round(2.354, 1)) # round with the given number of digits"
   ]
  },
  {
   "cell_type": "code",
   "execution_count": 3,
   "metadata": {},
   "outputs": [
    {
     "name": "stdout",
     "output_type": "stream",
     "text": [
      "hello\n"
     ]
    }
   ],
   "source": [
    "print(\"hello\")"
   ]
  },
  {
   "cell_type": "code",
   "execution_count": 21,
   "metadata": {},
   "outputs": [
    {
     "name": "stdout",
     "output_type": "stream",
     "text": [
      "abs1(5) = 5 and abs1(-5) = 5\n",
      "abs2(5) = 5 and abs2(-5) = 5\n",
      "abs3(5) = 5 and abs3(-5) = 5\n",
      "abs4(5) = 5 and abs4(-5) = 5\n"
     ]
    }
   ],
   "source": [
    "# These examples define abs(n), which is a nice example here, but it is\n",
    "# also a builtin function, so you do not need to define it to use it.\n",
    "\n",
    "def abs1(n):\n",
    "    if (n < 0):\n",
    "        n = -n\n",
    "    return n\n",
    "\n",
    "# again, with same-line indenting\n",
    "\n",
    "def abs2(n):\n",
    "    if (n < 0): n = -n # only indent this way for very short lines (if at all)\n",
    "    return n\n",
    "\n",
    "# again, with multiple return statements\n",
    "\n",
    "def abs3(n):\n",
    "    if (n < 0):\n",
    "        return -n\n",
    "    return n\n",
    "\n",
    "# aside: you can do this with boolean arithmetic, but don't!\n",
    "\n",
    "def abs4(n):\n",
    "    return (n < 0)*(-n) + (n>=0)*(n) # this is awful!\n",
    "\n",
    "# now show that they all work properly:\n",
    "\n",
    "print(\"abs1(5) =\", abs1(5), \"and abs1(-5) =\", abs1(-5))\n",
    "print(\"abs2(5) =\", abs2(5), \"and abs2(-5) =\", abs2(-5))\n",
    "print(\"abs3(5) =\", abs3(5), \"and abs3(-5) =\", abs3(-5))\n",
    "print(\"abs4(5) =\", abs4(5), \"and abs4(-5) =\", abs4(-5))"
   ]
  },
  {
   "cell_type": "code",
   "execution_count": 87,
   "metadata": {},
   "outputs": [],
   "source": [
    "import math\n",
    "import time"
   ]
  },
  {
   "cell_type": "code",
   "execution_count": 8,
   "metadata": {},
   "outputs": [],
   "source": [
    "def distance(x1, y1, x2, y2):\n",
    "    x = pow(x2 -x1,2)\n",
    "    y = pow(y2 - y1,2) \n",
    "    \n",
    "    return math.sqrt(x + y)"
   ]
  },
  {
   "cell_type": "code",
   "execution_count": 9,
   "metadata": {},
   "outputs": [
    {
     "data": {
      "text/plain": [
       "5.656854249492381"
      ]
     },
     "execution_count": 9,
     "metadata": {},
     "output_type": "execute_result"
    }
   ],
   "source": [
    "distance(1,2,5,6)"
   ]
  },
  {
   "cell_type": "code",
   "execution_count": 10,
   "metadata": {},
   "outputs": [
    {
     "data": {
      "text/plain": [
       "5.656854249492381"
      ]
     },
     "execution_count": 10,
     "metadata": {},
     "output_type": "execute_result"
    }
   ],
   "source": [
    "32**(1/2)"
   ]
  },
  {
   "cell_type": "code",
   "execution_count": 18,
   "metadata": {},
   "outputs": [],
   "source": [
    "def circlesIntersect(x1, y1, r1, x2, y2, r2):\n",
    "    x = pow(x2 -x1,2)\n",
    "    y = pow(y2 - y1,2) \n",
    "    r = pow(r1 + r2,2)\n",
    "    \n",
    "    return (x+y < r)"
   ]
  },
  {
   "cell_type": "code",
   "execution_count": 20,
   "metadata": {},
   "outputs": [
    {
     "data": {
      "text/plain": [
       "False"
      ]
     },
     "execution_count": 20,
     "metadata": {},
     "output_type": "execute_result"
    }
   ],
   "source": [
    "circlesIntersect(1,2,2,5,6,2)"
   ]
  },
  {
   "cell_type": "code",
   "execution_count": 27,
   "metadata": {},
   "outputs": [],
   "source": [
    "def getInRange(x, bound1, bound2):\n",
    "    if ((x>bound1) and (x < bound2)) or ((x >bound2) and (x < bound1)):\n",
    "        return x\n",
    "    elif bound1 > bound2:\n",
    "        if x > bound1 :\n",
    "            return bound1\n",
    "        elif x < bound2:\n",
    "            return bound2\n",
    "         \n",
    "    else:\n",
    "        if x > bound2:\n",
    "            return bound2\n",
    "        elif (x < bound1):\n",
    "            return bound1"
   ]
  },
  {
   "cell_type": "code",
   "execution_count": 30,
   "metadata": {},
   "outputs": [
    {
     "data": {
      "text/plain": [
       "5"
      ]
     },
     "execution_count": 30,
     "metadata": {},
     "output_type": "execute_result"
    }
   ],
   "source": [
    "getInRange(10,3,5)"
   ]
  },
  {
   "cell_type": "code",
   "execution_count": 33,
   "metadata": {},
   "outputs": [],
   "source": [
    "def eggCartons(eggs):\n",
    "    return eggs // 12 + (eggs%12 > 0)*1"
   ]
  },
  {
   "cell_type": "code",
   "execution_count": 37,
   "metadata": {},
   "outputs": [
    {
     "data": {
      "text/plain": [
       "3"
      ]
     },
     "execution_count": 37,
     "metadata": {},
     "output_type": "execute_result"
    }
   ],
   "source": [
    "eggCartons(25)"
   ]
  },
  {
   "cell_type": "code",
   "execution_count": 48,
   "metadata": {},
   "outputs": [],
   "source": [
    "def pascalsTriangleValue(row, col):\n",
    "    if row < col:\n",
    "        return None\n",
    "    else:\n",
    "        n = math.factorial(row)\n",
    "        r = math.factorial(col)\n",
    "        return n //(r * math.factorial(row-col)) \n",
    "    \n"
   ]
  },
  {
   "cell_type": "code",
   "execution_count": 49,
   "metadata": {},
   "outputs": [
    {
     "data": {
      "text/plain": [
       "1"
      ]
     },
     "execution_count": 49,
     "metadata": {},
     "output_type": "execute_result"
    }
   ],
   "source": [
    "pascalsTriangleValue(4,4)"
   ]
  },
  {
   "cell_type": "code",
   "execution_count": 40,
   "metadata": {},
   "outputs": [
    {
     "data": {
      "text/plain": [
       "1"
      ]
     },
     "execution_count": 40,
     "metadata": {},
     "output_type": "execute_result"
    }
   ],
   "source": [
    "math.factorial(4-3)"
   ]
  },
  {
   "cell_type": "code",
   "execution_count": 98,
   "metadata": {},
   "outputs": [],
   "source": [
    "def getKthDigit(n, k):\n",
    "    # return abs(n) // (10**k) % 10\n",
    "    n=abs(n)\n",
    "    while(k>0):\n",
    "        n =n//10 \n",
    "        k= k-1\n",
    "    return n%10    "
   ]
  },
  {
   "cell_type": "code",
   "execution_count": 99,
   "metadata": {},
   "outputs": [
    {
     "name": "stdout",
     "output_type": "stream",
     "text": [
      "CPU times: total: 0 ns\n",
      "Wall time: 0 ns\n"
     ]
    },
    {
     "data": {
      "text/plain": [
       "3"
      ]
     },
     "execution_count": 99,
     "metadata": {},
     "output_type": "execute_result"
    }
   ],
   "source": [
    "%%time\n",
    "getKthDigit(12341234123412341234,5)"
   ]
  },
  {
   "cell_type": "code",
   "execution_count": 126,
   "metadata": {},
   "outputs": [],
   "source": [
    "def setKthDigit(n, k, d):\n",
    "     \n",
    "    source = abs(n) // (10**k) % 10 * pow(10,k)\n",
    "    kd = d * pow(10,k)\n",
    "    \n",
    "    return (n<0)*(-1)*(abs(n)-source + kd)"
   ]
  },
  {
   "cell_type": "code",
   "execution_count": 121,
   "metadata": {},
   "outputs": [],
   "source": [
    "def setKthDigit(n, k, d):\n",
    "    source = abs(n) // (10**k) % 10 * pow(10,k) ## n의 k번째 자릿수\n",
    "    kd = d * pow(10,k)\n",
    "    if n < 0:\n",
    "        return n + source - kd\n",
    "    else:    \n",
    "        return abs(n)-source + kd"
   ]
  },
  {
   "cell_type": "code",
   "execution_count": 127,
   "metadata": {},
   "outputs": [
    {
     "data": {
      "text/plain": [
       "0"
      ]
     },
     "execution_count": 127,
     "metadata": {},
     "output_type": "execute_result"
    }
   ],
   "source": [
    "setKthDigit(468, 1, 1)"
   ]
  },
  {
   "cell_type": "code",
   "execution_count": 154,
   "metadata": {},
   "outputs": [],
   "source": [
    "def nearestOdd(n):\n",
    "    num = roundHalfUp(n)\n",
    "    if num % 2 ==0:\n",
    "        if num > n: \n",
    "            return int(num -1)\n",
    "        else:\n",
    "            return int(num + 1)\n",
    "\n",
    "    else:\n",
    "        return int(num)"
   ]
  },
  {
   "cell_type": "code",
   "execution_count": 156,
   "metadata": {},
   "outputs": [
    {
     "data": {
      "text/plain": [
       "13"
      ]
     },
     "execution_count": 156,
     "metadata": {},
     "output_type": "execute_result"
    }
   ],
   "source": [
    "nearestOdd(12.4)"
   ]
  },
  {
   "cell_type": "code",
   "execution_count": 144,
   "metadata": {},
   "outputs": [
    {
     "name": "stdout",
     "output_type": "stream",
     "text": [
      "0\n",
      "2\n",
      "1\n",
      "2\n",
      "-------------------------------------------------------------\n",
      "True\n",
      "False\n",
      "0.30000000000000004\n",
      "5.551115123125783e-17\n",
      "-------------------------------------------------------------\n",
      "True\n",
      "True\n"
     ]
    }
   ],
   "source": [
    "# There are a few functions from modules you'll definitely want to use in the assignments\n",
    "\n",
    "# First: the built-in round function has confusing behavior when rounding 0.5.\n",
    "# Use our function roundHalfUp to fix this.\n",
    "\n",
    "def roundHalfUp(d):\n",
    "    # Round to nearest with ties going away from zero.\n",
    "    # You do not need to understand how this function works.\n",
    "    import decimal\n",
    "    rounding = decimal.ROUND_HALF_UP\n",
    "    return int(decimal.Decimal(d).to_integral_value(rounding=rounding))\n",
    "\n",
    "print(round(0.5)) # This evaluates to 0 - what!\n",
    "print(round(1.5)) # And this will be 2 - so confusing!\n",
    "print(roundHalfUp(0.5)) # Now this will always round 0.5 up (to 1)\n",
    "print(roundHalfUp(1.5)) # This still rounds up too!\n",
    "print(\"-------------------------------------------------------------\")\n",
    "# Second: when comparing floats, == doesn't work quite right.\n",
    "# Use almostEqual to compare floats instead\n",
    "\n",
    "print(0.1 + 0.1 == 0.2) # True, but...\n",
    "d1 = 0.1 + 0.1 + 0.1\n",
    "d2 = 0.3\n",
    "print(d1 == d2) # False!\n",
    "print(d1)       # prints 0.30000000000000004 (uh oh)\n",
    "print(d1 - d2)  # prints 5.55111512313e-17 (tiny, but non-zero!)\n",
    "print(\"-------------------------------------------------------------\")\n",
    "# Moral: never use == with floats!\n",
    "\n",
    "# Python includes a builtin function math.isclose(), but that function\n",
    "# has some confusing behavior when comparing values close to 0.\n",
    "# Instead, let's just make our own version of isclose:\n",
    "\n",
    "def almostEqual(x, y):\n",
    "    return abs(x - y) < 10**-9\n",
    "\n",
    "# This will now work properly!\n",
    "print(almostEqual(0, 0.0000000000001))\n",
    "print(almostEqual(d1, d2))"
   ]
  },
  {
   "cell_type": "code",
   "execution_count": 147,
   "metadata": {},
   "outputs": [
    {
     "name": "stdout",
     "output_type": "stream",
     "text": [
      "0\n",
      "1\n",
      "1\n",
      "2\n"
     ]
    }
   ],
   "source": [
    "print(int(0.6)) # This evaluates to 0 - what!\n",
    "print(int(1.5)) # And this will be 2 - so confusing!\n",
    "print(roundHalfUp(0.5)) # Now this will always round 0.5 up (to 1)\n",
    "print(roundHalfUp(1.5)) # This still rounds up too!"
   ]
  },
  {
   "cell_type": "code",
   "execution_count": 28,
   "metadata": {},
   "outputs": [],
   "source": [
    "def numberOfPoolBalls(rows):\n",
    "    total=(rows*(rows+1) // 2)\n",
    "    return total"
   ]
  },
  {
   "cell_type": "code",
   "execution_count": 29,
   "metadata": {},
   "outputs": [
    {
     "data": {
      "text/plain": [
       "0"
      ]
     },
     "execution_count": 29,
     "metadata": {},
     "output_type": "execute_result"
    }
   ],
   "source": [
    "numberOfPoolBalls(0)"
   ]
  },
  {
   "cell_type": "code",
   "execution_count": 30,
   "metadata": {},
   "outputs": [],
   "source": [
    "def numberOfPoolBallRows(balls):\n",
    "    n=1\n",
    "    while(1):\n",
    "        if n(n+1) > balls:\n",
    "            n=n+1\n",
    "        else:\n",
    "            return n"
   ]
  },
  {
   "cell_type": "code",
   "execution_count": 38,
   "metadata": {},
   "outputs": [],
   "source": [
    "def numberOfPoolBallRows(balls):\n",
    "    n = int(math.sqrt(2*balls))\n",
    "    if (n*(n+1) // 2) >= balls:\n",
    "        return n\n",
    "    else:\n",
    "        return n+1  "
   ]
  },
  {
   "cell_type": "code",
   "execution_count": 39,
   "metadata": {},
   "outputs": [
    {
     "data": {
      "text/plain": [
       "11"
      ]
     },
     "execution_count": 39,
     "metadata": {},
     "output_type": "execute_result"
    }
   ],
   "source": [
    "numberOfPoolBallRows(56)"
   ]
  },
  {
   "cell_type": "code",
   "execution_count": 48,
   "metadata": {},
   "outputs": [
    {
     "data": {
      "text/plain": [
       "220.0"
      ]
     },
     "execution_count": 48,
     "metadata": {},
     "output_type": "execute_result"
    }
   ],
   "source": [
    "220 + (189-220) * (0/4)"
   ]
  },
  {
   "cell_type": "code",
   "execution_count": 50,
   "metadata": {},
   "outputs": [
    {
     "data": {
      "text/plain": [
       "220"
      ]
     },
     "execution_count": 50,
     "metadata": {},
     "output_type": "execute_result"
    }
   ],
   "source": [
    "220000000 // 1000000"
   ]
  },
  {
   "cell_type": "code",
   "execution_count": 54,
   "metadata": {},
   "outputs": [
    {
     "data": {
      "text/plain": [
       "220"
      ]
     },
     "execution_count": 54,
     "metadata": {},
     "output_type": "execute_result"
    }
   ],
   "source": [
    "rgb=str(220020360)\n",
    "int(rgb[:3])"
   ]
  },
  {
   "cell_type": "code",
   "execution_count": 61,
   "metadata": {},
   "outputs": [
    {
     "name": "stdout",
     "output_type": "stream",
     "text": [
      "220\n",
      "20\n",
      "360\n"
     ]
    }
   ],
   "source": [
    "rgb1=220020360\n",
    "print(str(rgb1)[:3])\n",
    "print(int(str(rgb1)[3:6]))\n",
    "print(str(rgb1)[6:9])"
   ]
  },
  {
   "cell_type": "code",
   "execution_count": 70,
   "metadata": {},
   "outputs": [],
   "source": [
    "import cs112_f21_week1_linter"
   ]
  },
  {
   "cell_type": "code",
   "execution_count": 73,
   "metadata": {},
   "outputs": [],
   "source": [
    "import cs112_f21_week1_linter\n",
    "def colorBlender(rgb1, rgb2, midpoints, n):\n",
    "    x1 = rgb1 // 1000000\n",
    "    y1 = rgb1 // 1000 - x1\n",
    "    z1 = rgb1 % 1000\n",
    "    x2 = rgb2 // 1000000\n",
    "    y2 = rgb2 // 1000 - x2\n",
    "    z2 = rgb2 % 1000\n",
    "    \n",
    "    \n",
    "    mid = midpoints + 1\n",
    "    x= roundHalfUp(x1 + (x2-x1)*(n/mid))*1000000\n",
    "    y= roundHalfUp(y1 + (y2-y1)*(n/mid))*1000\n",
    "    z= roundHalfUp(z1 + (z2-z1)*(n/mid))\n",
    "    return x + y + z \n"
   ]
  },
  {
   "cell_type": "code",
   "execution_count": 76,
   "metadata": {},
   "outputs": [
    {
     "ename": "NameError",
     "evalue": "name 'roundHalfUp' is not defined",
     "output_type": "error",
     "traceback": [
      "\u001b[1;31m---------------------------------------------------------------------------\u001b[0m",
      "\u001b[1;31mNameError\u001b[0m                                 Traceback (most recent call last)",
      "\u001b[1;32m~\\AppData\\Local\\Temp\\ipykernel_16092\\1658937362.py\u001b[0m in \u001b[0;36m<module>\u001b[1;34m\u001b[0m\n\u001b[0;32m      1\u001b[0m \u001b[1;32mimport\u001b[0m \u001b[0mcs112_f21_week1_linter\u001b[0m\u001b[1;33m\u001b[0m\u001b[1;33m\u001b[0m\u001b[0m\n\u001b[1;32m----> 2\u001b[1;33m \u001b[0mcolorBlender\u001b[0m\u001b[1;33m(\u001b[0m\u001b[1;36m220020060\u001b[0m\u001b[1;33m,\u001b[0m \u001b[1;36m189252201\u001b[0m\u001b[1;33m,\u001b[0m \u001b[1;36m3\u001b[0m\u001b[1;33m,\u001b[0m \u001b[1;36m5\u001b[0m\u001b[1;33m)\u001b[0m\u001b[1;33m\u001b[0m\u001b[1;33m\u001b[0m\u001b[0m\n\u001b[0m",
      "\u001b[1;32m~\\AppData\\Local\\Temp\\ipykernel_16092\\1347644684.py\u001b[0m in \u001b[0;36mcolorBlender\u001b[1;34m(rgb1, rgb2, midpoints, n)\u001b[0m\n\u001b[0;32m     10\u001b[0m \u001b[1;33m\u001b[0m\u001b[0m\n\u001b[0;32m     11\u001b[0m     \u001b[0mmid\u001b[0m \u001b[1;33m=\u001b[0m \u001b[0mmidpoints\u001b[0m \u001b[1;33m+\u001b[0m \u001b[1;36m1\u001b[0m\u001b[1;33m\u001b[0m\u001b[1;33m\u001b[0m\u001b[0m\n\u001b[1;32m---> 12\u001b[1;33m     \u001b[0mx\u001b[0m\u001b[1;33m=\u001b[0m \u001b[0mroundHalfUp\u001b[0m\u001b[1;33m(\u001b[0m\u001b[0mx1\u001b[0m \u001b[1;33m+\u001b[0m \u001b[1;33m(\u001b[0m\u001b[0mx2\u001b[0m\u001b[1;33m-\u001b[0m\u001b[0mx1\u001b[0m\u001b[1;33m)\u001b[0m\u001b[1;33m*\u001b[0m\u001b[1;33m(\u001b[0m\u001b[0mn\u001b[0m\u001b[1;33m/\u001b[0m\u001b[0mmid\u001b[0m\u001b[1;33m)\u001b[0m\u001b[1;33m)\u001b[0m\u001b[1;33m*\u001b[0m\u001b[1;36m1000000\u001b[0m\u001b[1;33m\u001b[0m\u001b[1;33m\u001b[0m\u001b[0m\n\u001b[0m\u001b[0;32m     13\u001b[0m     \u001b[0my\u001b[0m\u001b[1;33m=\u001b[0m \u001b[0mroundHalfUp\u001b[0m\u001b[1;33m(\u001b[0m\u001b[0my1\u001b[0m \u001b[1;33m+\u001b[0m \u001b[1;33m(\u001b[0m\u001b[0my2\u001b[0m\u001b[1;33m-\u001b[0m\u001b[0my1\u001b[0m\u001b[1;33m)\u001b[0m\u001b[1;33m*\u001b[0m\u001b[1;33m(\u001b[0m\u001b[0mn\u001b[0m\u001b[1;33m/\u001b[0m\u001b[0mmid\u001b[0m\u001b[1;33m)\u001b[0m\u001b[1;33m)\u001b[0m\u001b[1;33m*\u001b[0m\u001b[1;36m1000\u001b[0m\u001b[1;33m\u001b[0m\u001b[1;33m\u001b[0m\u001b[0m\n\u001b[0;32m     14\u001b[0m     \u001b[0mz\u001b[0m\u001b[1;33m=\u001b[0m \u001b[0mroundHalfUp\u001b[0m\u001b[1;33m(\u001b[0m\u001b[0mz1\u001b[0m \u001b[1;33m+\u001b[0m \u001b[1;33m(\u001b[0m\u001b[0mz2\u001b[0m\u001b[1;33m-\u001b[0m\u001b[0mz1\u001b[0m\u001b[1;33m)\u001b[0m\u001b[1;33m*\u001b[0m\u001b[1;33m(\u001b[0m\u001b[0mn\u001b[0m\u001b[1;33m/\u001b[0m\u001b[0mmid\u001b[0m\u001b[1;33m)\u001b[0m\u001b[1;33m)\u001b[0m\u001b[1;33m\u001b[0m\u001b[1;33m\u001b[0m\u001b[0m\n",
      "\u001b[1;31mNameError\u001b[0m: name 'roundHalfUp' is not defined"
     ]
    }
   ],
   "source": [
    "import cs112_f21_week1_linter\n",
    "colorBlender(220020060, 189252201, 3, 5)"
   ]
  },
  {
   "cell_type": "code",
   "execution_count": 91,
   "metadata": {},
   "outputs": [],
   "source": [
    "rgb1=220020060\n",
    "x1 = rgb1 // 1000000\n",
    "y1 = (rgb1 - (x1*1000000)) // 1000\n",
    "z1 = rgb1 % 1000"
   ]
  },
  {
   "cell_type": "code",
   "execution_count": 92,
   "metadata": {},
   "outputs": [
    {
     "data": {
      "text/plain": [
       "20"
      ]
     },
     "execution_count": 92,
     "metadata": {},
     "output_type": "execute_result"
    }
   ],
   "source": [
    "y1"
   ]
  },
  {
   "cell_type": "code",
   "execution_count": 95,
   "metadata": {},
   "outputs": [],
   "source": [
    "def handToDice(num):\n",
    "    x = num // 100\n",
    "    y = num // 10 - x * 10\n",
    "    z = num % 10 \n",
    "    return ( x, y, z )"
   ]
  },
  {
   "cell_type": "code",
   "execution_count": 96,
   "metadata": {},
   "outputs": [
    {
     "data": {
      "text/plain": [
       "(1, 2, 3)"
      ]
     },
     "execution_count": 96,
     "metadata": {},
     "output_type": "execute_result"
    }
   ],
   "source": [
    "handToDice(123)"
   ]
  },
  {
   "cell_type": "code",
   "execution_count": 2,
   "metadata": {},
   "outputs": [],
   "source": [
    "def diceToOrderedHand(a, b, c):\n",
    "    if max(a,b,c)==a:\n",
    "        if min(b,c) == b:\n",
    "            return str(a)+str(c)+str(b)    \n",
    "        else:\n",
    "            return str(a)+str(b)+str(c)\n",
    "\n",
    "    elif max(a,b,c)==b:\n",
    "        if min(a,c) == a:\n",
    "            return str(b)+str(c)+str(a)    \n",
    "        else:\n",
    "            return str(b)+str(a)+str(c)\n",
    "    else:\n",
    "        if min(a,b) == a:\n",
    "            return str(c)+str(b)+str(a)    \n",
    "        else:\n",
    "            return str(c)+str(a)+str(b)"
   ]
  },
  {
   "cell_type": "code",
   "execution_count": 3,
   "metadata": {},
   "outputs": [
    {
     "data": {
      "text/plain": [
       "'321'"
      ]
     },
     "execution_count": 3,
     "metadata": {},
     "output_type": "execute_result"
    }
   ],
   "source": [
    "diceToOrderedHand(1,2,3)"
   ]
  },
  {
   "cell_type": "code",
   "execution_count": null,
   "metadata": {},
   "outputs": [],
   "source": [
    "def playStep2(hand, dice):\n",
    "    if \n",
    "    "
   ]
  },
  {
   "cell_type": "code",
   "execution_count": null,
   "metadata": {},
   "outputs": [],
   "source": [
    "def Score(hand):\n",
    "    "
   ]
  },
  {
   "cell_type": "code",
   "execution_count": null,
   "metadata": {},
   "outputs": [],
   "source": [
    "\n",
    "def bonusFindIntRootsOfCubic(a, b, c, d):\n",
    "    return 42\n"
   ]
  }
 ],
 "metadata": {
  "kernelspec": {
   "display_name": "Python 3",
   "language": "python",
   "name": "python3"
  },
  "language_info": {
   "codemirror_mode": {
    "name": "ipython",
    "version": 3
   },
   "file_extension": ".py",
   "mimetype": "text/x-python",
   "name": "python",
   "nbconvert_exporter": "python",
   "pygments_lexer": "ipython3",
   "version": "3.7.16"
  }
 },
 "nbformat": 4,
 "nbformat_minor": 4
}
